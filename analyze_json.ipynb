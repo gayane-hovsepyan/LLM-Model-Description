{
 "cells": [
  {
   "cell_type": "code",
   "execution_count": 1,
   "id": "80704310",
   "metadata": {},
   "outputs": [],
   "source": [
    "import json\n",
    "import pandas as pd\n",
    "from collections import Counter\n",
    "import matplotlib.pyplot as plt"
   ]
  },
  {
   "cell_type": "code",
   "execution_count": 2,
   "id": "78a47131",
   "metadata": {},
   "outputs": [],
   "source": [
    "with open(\"logs.json\", \"r\") as f:\n",
    "    logs = json.load(f)"
   ]
  },
  {
   "cell_type": "code",
   "execution_count": 3,
   "id": "efe21542",
   "metadata": {},
   "outputs": [
    {
     "data": {
      "text/plain": [
       "query_id               object\n",
       "user_query             object\n",
       "retrieved_chunks       object\n",
       "final_answer           object\n",
       "response_latency_ms     int64\n",
       "user_feedback          object\n",
       "dtype: object"
      ]
     },
     "execution_count": 3,
     "metadata": {},
     "output_type": "execute_result"
    }
   ],
   "source": [
    "df = pd.DataFrame(logs)\n",
    "df.dtypes"
   ]
  },
  {
   "cell_type": "code",
   "execution_count": 4,
   "id": "4902d305",
   "metadata": {},
   "outputs": [
    {
     "data": {
      "text/html": [
       "<div>\n",
       "<style scoped>\n",
       "    .dataframe tbody tr th:only-of-type {\n",
       "        vertical-align: middle;\n",
       "    }\n",
       "\n",
       "    .dataframe tbody tr th {\n",
       "        vertical-align: top;\n",
       "    }\n",
       "\n",
       "    .dataframe thead th {\n",
       "        text-align: right;\n",
       "    }\n",
       "</style>\n",
       "<table border=\"1\" class=\"dataframe\">\n",
       "  <thead>\n",
       "    <tr style=\"text-align: right;\">\n",
       "      <th></th>\n",
       "      <th>query_id</th>\n",
       "      <th>user_query</th>\n",
       "      <th>retrieved_chunks</th>\n",
       "      <th>final_answer</th>\n",
       "      <th>response_latency_ms</th>\n",
       "      <th>user_feedback</th>\n",
       "    </tr>\n",
       "  </thead>\n",
       "  <tbody>\n",
       "    <tr>\n",
       "      <th>0</th>\n",
       "      <td>a7b3c9d1</td>\n",
       "      <td>What is our company's policy on using GPT-4 fo...</td>\n",
       "      <td>[{'chunk_id': 'pdf_doc_1138_chunk_4', 'source'...</td>\n",
       "      <td>According to the 'AI Usage Guidelines' documen...</td>\n",
       "      <td>3450</td>\n",
       "      <td>thumb_down</td>\n",
       "    </tr>\n",
       "    <tr>\n",
       "      <th>1</th>\n",
       "      <td>e4f8a2b5</td>\n",
       "      <td>How do I set up my local development environme...</td>\n",
       "      <td>[{'chunk_id': 'wiki_phoenix_setup_guide_chunk_...</td>\n",
       "      <td>To set up your local environment for 'Phoenix'...</td>\n",
       "      <td>2100</td>\n",
       "      <td>thumb_up</td>\n",
       "    </tr>\n",
       "    <tr>\n",
       "      <th>2</th>\n",
       "      <td>c9d1b3a7</td>\n",
       "      <td>What is the correct function signature for the...</td>\n",
       "      <td>[{'chunk_id': 'conf_api_review_q2_chunk_8', 's...</td>\n",
       "      <td>The `getUserProfile` endpoint was discussed du...</td>\n",
       "      <td>3100</td>\n",
       "      <td>thumb_down</td>\n",
       "    </tr>\n",
       "    <tr>\n",
       "      <th>3</th>\n",
       "      <td>f8a2b5e4</td>\n",
       "      <td>Give me a complete summary of all key architec...</td>\n",
       "      <td>[{'chunk_id': 'pdf_doc_hydra_v1_spec_chunk_2',...</td>\n",
       "      <td>The 'Hydra' project began with a monolithic ar...</td>\n",
       "      <td>4850</td>\n",
       "      <td>thumb_up</td>\n",
       "    </tr>\n",
       "    <tr>\n",
       "      <th>4</th>\n",
       "      <td>b3a7c9d1</td>\n",
       "      <td>Why is my feature branch `fix-login-bug-123` f...</td>\n",
       "      <td>[{'chunk_id': 'wiki_common_cicd_errors_chunk_7...</td>\n",
       "      <td>CI/CD pipeline failures can be due to various ...</td>\n",
       "      <td>3200</td>\n",
       "      <td>thumb_down</td>\n",
       "    </tr>\n",
       "  </tbody>\n",
       "</table>\n",
       "</div>"
      ],
      "text/plain": [
       "   query_id                                         user_query  \\\n",
       "0  a7b3c9d1  What is our company's policy on using GPT-4 fo...   \n",
       "1  e4f8a2b5  How do I set up my local development environme...   \n",
       "2  c9d1b3a7  What is the correct function signature for the...   \n",
       "3  f8a2b5e4  Give me a complete summary of all key architec...   \n",
       "4  b3a7c9d1  Why is my feature branch `fix-login-bug-123` f...   \n",
       "\n",
       "                                    retrieved_chunks  \\\n",
       "0  [{'chunk_id': 'pdf_doc_1138_chunk_4', 'source'...   \n",
       "1  [{'chunk_id': 'wiki_phoenix_setup_guide_chunk_...   \n",
       "2  [{'chunk_id': 'conf_api_review_q2_chunk_8', 's...   \n",
       "3  [{'chunk_id': 'pdf_doc_hydra_v1_spec_chunk_2',...   \n",
       "4  [{'chunk_id': 'wiki_common_cicd_errors_chunk_7...   \n",
       "\n",
       "                                        final_answer  response_latency_ms  \\\n",
       "0  According to the 'AI Usage Guidelines' documen...                 3450   \n",
       "1  To set up your local environment for 'Phoenix'...                 2100   \n",
       "2  The `getUserProfile` endpoint was discussed du...                 3100   \n",
       "3  The 'Hydra' project began with a monolithic ar...                 4850   \n",
       "4  CI/CD pipeline failures can be due to various ...                 3200   \n",
       "\n",
       "  user_feedback  \n",
       "0    thumb_down  \n",
       "1      thumb_up  \n",
       "2    thumb_down  \n",
       "3      thumb_up  \n",
       "4    thumb_down  "
      ]
     },
     "execution_count": 4,
     "metadata": {},
     "output_type": "execute_result"
    }
   ],
   "source": [
    "df.head()"
   ]
  },
  {
   "cell_type": "markdown",
   "id": "c9f40679",
   "metadata": {},
   "source": [
    "## Checking overall feedbacks"
   ]
  },
  {
   "cell_type": "code",
   "execution_count": 5,
   "id": "4c726ea3",
   "metadata": {},
   "outputs": [
    {
     "data": {
      "text/plain": [
       "user_feedback\n",
       "thumb_up      65\n",
       "thumb_down    16\n",
       "Name: count, dtype: int64"
      ]
     },
     "execution_count": 5,
     "metadata": {},
     "output_type": "execute_result"
    }
   ],
   "source": [
    "df['user_feedback'].value_counts()"
   ]
  },
  {
   "cell_type": "markdown",
   "id": "3cf7fa81",
   "metadata": {},
   "source": [
    "20% of feedbacks are negative, not a good estimate"
   ]
  },
  {
   "cell_type": "code",
   "execution_count": 6,
   "id": "6d70705c",
   "metadata": {},
   "outputs": [],
   "source": [
    "def get_sources(retrieved_chunks):\n",
    "    return [chunk['source'] for chunk in retrieved_chunks]"
   ]
  },
  {
   "cell_type": "code",
   "execution_count": 18,
   "id": "03622dbb",
   "metadata": {},
   "outputs": [],
   "source": [
    "df['chunk_count'] = df['retrieved_chunks'].apply(len)\n",
    "df['estimated_tokens'] = df['chunk_count'] * 400"
   ]
  },
  {
   "cell_type": "code",
   "execution_count": 8,
   "id": "58ac489d",
   "metadata": {},
   "outputs": [],
   "source": [
    "df['sources'] = df['retrieved_chunks'].apply(get_sources)"
   ]
  },
  {
   "cell_type": "markdown",
   "id": "13bc1663",
   "metadata": {},
   "source": [
    "### Checking positive feedbacks"
   ]
  },
  {
   "cell_type": "code",
   "execution_count": 9,
   "id": "cdf27bfd",
   "metadata": {},
   "outputs": [],
   "source": [
    "df_positive = df[df['user_feedback'] == 'thumb_up']"
   ]
  },
  {
   "cell_type": "code",
   "execution_count": 10,
   "id": "1ee1adeb",
   "metadata": {},
   "outputs": [
    {
     "name": "stdout",
     "output_type": "stream",
     "text": [
      "Counter({'Engineering Wiki': 108, 'Confluence': 88, 'Archived Design Docs (PDFs)': 64})\n"
     ]
    }
   ],
   "source": [
    "all_sources_up = [source for sources_list in df_positive['sources'] for source in sources_list]\n",
    "source_counts_up = Counter(all_sources_up)\n",
    "print(source_counts_up)"
   ]
  },
  {
   "cell_type": "code",
   "execution_count": 11,
   "id": "8f564dd0",
   "metadata": {},
   "outputs": [
    {
     "data": {
      "image/png": "[encoded data removed]",
      "text/plain": [
       "<Figure size 640x480 with 1 Axes>"
      ]
     },
     "metadata": {},
     "output_type": "display_data"
    }
   ],
   "source": [
    "plt.bar(source_counts_up.keys(), source_counts_up.values())\n",
    "plt.title(\"Source distribution in thumbs-up queries\")\n",
    "plt.ylabel(\"Count\")\n",
    "plt.show()"
   ]
  },
  {
   "cell_type": "markdown",
   "id": "3837d5bd",
   "metadata": {},
   "source": [
    "### Checking negative feedbacks"
   ]
  },
  {
   "cell_type": "code",
   "execution_count": 12,
   "id": "1227d48d",
   "metadata": {},
   "outputs": [],
   "source": [
    "df_negative = df[df['user_feedback'] == 'thumb_down']"
   ]
  },
  {
   "cell_type": "code",
   "execution_count": null,
   "id": "a58264d8",
   "metadata": {},
   "outputs": [
    {
     "name": "stdout",
     "output_type": "stream",
     "text": [
      "Counter({'Archived Design Docs (PDFs)': 25, 'Confluence': 20, 'Engineering Wiki': 19})\n"
     ]
    }
   ],
   "source": [
    "all_sources_down = [source for sources_list in df_negative['sources'] for source in sources_list]\n",
    "source_counts_down = Counter(all_sources_down)\n",
    "print(source_counts_down)"
   ]
  },
  {
   "cell_type": "code",
   "execution_count": 14,
   "id": "9bf4471f",
   "metadata": {},
   "outputs": [
    {
     "data": {
      "image/png": "[encoded data removed]",
      "text/plain": [
       "<Figure size 640x480 with 1 Axes>"
      ]
     },
     "metadata": {},
     "output_type": "display_data"
    }
   ],
   "source": [
    "plt.bar(source_counts_down.keys(), source_counts_down.values())\n",
    "plt.title(\"Source distribution in thumbs-down queries\")\n",
    "plt.ylabel(\"Count\")\n",
    "plt.show()"
   ]
  },
  {
   "cell_type": "code",
   "execution_count": 15,
   "id": "3729ceb6",
   "metadata": {},
   "outputs": [
    {
     "name": "stderr",
     "output_type": "stream",
     "text": [
      "/var/folders/vm/2yblxfx968b5fnxwrvwcklgc0000gn/T/ipykernel_29679/115483912.py:2: SettingWithCopyWarning: \n",
      "A value is trying to be set on a copy of a slice from a DataFrame\n",
      "\n",
      "See the caveats in the documentation: https://pandas.pydata.org/pandas-docs/stable/user_guide/indexing.html#returning-a-view-versus-a-copy\n",
      "  df_negative_summary.sort_values(by = ['response_latency_ms'], inplace=True, ascending=False)\n"
     ]
    },
    {
     "data": {
      "text/html": [
       "<div>\n",
       "<style scoped>\n",
       "    .dataframe tbody tr th:only-of-type {\n",
       "        vertical-align: middle;\n",
       "    }\n",
       "\n",
       "    .dataframe tbody tr th {\n",
       "        vertical-align: top;\n",
       "    }\n",
       "\n",
       "    .dataframe thead th {\n",
       "        text-align: right;\n",
       "    }\n",
       "</style>\n",
       "<table border=\"1\" class=\"dataframe\">\n",
       "  <thead>\n",
       "    <tr style=\"text-align: right;\">\n",
       "      <th></th>\n",
       "      <th>user_query</th>\n",
       "      <th>sources</th>\n",
       "      <th>response_latency_ms</th>\n",
       "    </tr>\n",
       "  </thead>\n",
       "  <tbody>\n",
       "    <tr>\n",
       "      <th>36</th>\n",
       "      <td>What is the plan for migrating from Python 2 t...</td>\n",
       "      <td>[Archived Design Docs (PDFs), Engineering Wiki...</td>\n",
       "      <td>4950</td>\n",
       "    </tr>\n",
       "    <tr>\n",
       "      <th>68</th>\n",
       "      <td>What is the company's policy on using personal...</td>\n",
       "      <td>[Archived Design Docs (PDFs), Engineering Wiki...</td>\n",
       "      <td>4900</td>\n",
       "    </tr>\n",
       "    <tr>\n",
       "      <th>41</th>\n",
       "      <td>What is our cloud provider's SLA for virtual m...</td>\n",
       "      <td>[Archived Design Docs (PDFs), Engineering Wiki...</td>\n",
       "      <td>4700</td>\n",
       "    </tr>\n",
       "    <tr>\n",
       "      <th>44</th>\n",
       "      <td>What is the company's social media policy?</td>\n",
       "      <td>[Archived Design Docs (PDFs), Confluence, Engi...</td>\n",
       "      <td>4400</td>\n",
       "    </tr>\n",
       "    <tr>\n",
       "      <th>33</th>\n",
       "      <td>What is the company's stance on remote work?</td>\n",
       "      <td>[Archived Design Docs (PDFs), Confluence, Engi...</td>\n",
       "      <td>4350</td>\n",
       "    </tr>\n",
       "    <tr>\n",
       "      <th>78</th>\n",
       "      <td>What is the company's policy on employee educa...</td>\n",
       "      <td>[Archived Design Docs (PDFs), Engineering Wiki...</td>\n",
       "      <td>4250</td>\n",
       "    </tr>\n",
       "    <tr>\n",
       "      <th>23</th>\n",
       "      <td>What is the company's travel and expense polic...</td>\n",
       "      <td>[Archived Design Docs (PDFs), Confluence, Arch...</td>\n",
       "      <td>4200</td>\n",
       "    </tr>\n",
       "    <tr>\n",
       "      <th>11</th>\n",
       "      <td>What are the performance benchmarks for the ne...</td>\n",
       "      <td>[Archived Design Docs (PDFs), Confluence, Arch...</td>\n",
       "      <td>4150</td>\n",
       "    </tr>\n",
       "    <tr>\n",
       "      <th>14</th>\n",
       "      <td>What is the company's policy on open source so...</td>\n",
       "      <td>[Archived Design Docs (PDFs), Engineering Wiki...</td>\n",
       "      <td>3900</td>\n",
       "    </tr>\n",
       "    <tr>\n",
       "      <th>20</th>\n",
       "      <td>What version of Java is approved for new backe...</td>\n",
       "      <td>[Engineering Wiki, Archived Design Docs (PDFs)...</td>\n",
       "      <td>3650</td>\n",
       "    </tr>\n",
       "  </tbody>\n",
       "</table>\n",
       "</div>"
      ],
      "text/plain": [
       "                                           user_query  \\\n",
       "36  What is the plan for migrating from Python 2 t...   \n",
       "68  What is the company's policy on using personal...   \n",
       "41  What is our cloud provider's SLA for virtual m...   \n",
       "44         What is the company's social media policy?   \n",
       "33       What is the company's stance on remote work?   \n",
       "78  What is the company's policy on employee educa...   \n",
       "23  What is the company's travel and expense polic...   \n",
       "11  What are the performance benchmarks for the ne...   \n",
       "14  What is the company's policy on open source so...   \n",
       "20  What version of Java is approved for new backe...   \n",
       "\n",
       "                                              sources  response_latency_ms  \n",
       "36  [Archived Design Docs (PDFs), Engineering Wiki...                 4950  \n",
       "68  [Archived Design Docs (PDFs), Engineering Wiki...                 4900  \n",
       "41  [Archived Design Docs (PDFs), Engineering Wiki...                 4700  \n",
       "44  [Archived Design Docs (PDFs), Confluence, Engi...                 4400  \n",
       "33  [Archived Design Docs (PDFs), Confluence, Engi...                 4350  \n",
       "78  [Archived Design Docs (PDFs), Engineering Wiki...                 4250  \n",
       "23  [Archived Design Docs (PDFs), Confluence, Arch...                 4200  \n",
       "11  [Archived Design Docs (PDFs), Confluence, Arch...                 4150  \n",
       "14  [Archived Design Docs (PDFs), Engineering Wiki...                 3900  \n",
       "20  [Engineering Wiki, Archived Design Docs (PDFs)...                 3650  "
      ]
     },
     "execution_count": 15,
     "metadata": {},
     "output_type": "execute_result"
    }
   ],
   "source": [
    "df_negative_summary = df_negative[['user_query', 'sources', 'response_latency_ms']]\n",
    "df_negative_summary.sort_values(by = ['response_latency_ms'], inplace=True, ascending=False)\n",
    "df_negative_summary.head(10)"
   ]
  },
  {
   "cell_type": "markdown",
   "id": "23708ce9",
   "metadata": {},
   "source": [
    "### Checking the latency issue"
   ]
  },
  {
   "cell_type": "code",
   "execution_count": 16,
   "id": "5736e989",
   "metadata": {},
   "outputs": [
    {
     "data": {
      "image/png": "[encoded data removed]",
      "text/plain": [
       "<Figure size 640x480 with 1 Axes>"
      ]
     },
     "metadata": {},
     "output_type": "display_data"
    },
    {
     "name": "stdout",
     "output_type": "stream",
     "text": [
      "Queries above 3.5s: 23 / 81 (28.40%)\n"
     ]
    }
   ],
   "source": [
    "plt.hist(df['response_latency_ms'], bins=20, edgecolor='black')\n",
    "plt.xlabel('Response latency')\n",
    "plt.ylabel('Number of queries')\n",
    "plt.title('Distribution of latency')\n",
    "plt.show()\n",
    "\n",
    "\n",
    "slow_count = (df['response_latency_ms'] > 3500).sum()\n",
    "total_count = len(df)\n",
    "print(f\"Queries above 3.5s: {slow_count} / {total_count} ({slow_count / total_count:.2%})\")"
   ]
  },
  {
   "cell_type": "code",
   "execution_count": 17,
   "id": "850910b4",
   "metadata": {},
   "outputs": [
    {
     "data": {
      "text/html": [
       "<div>\n",
       "<style scoped>\n",
       "    .dataframe tbody tr th:only-of-type {\n",
       "        vertical-align: middle;\n",
       "    }\n",
       "\n",
       "    .dataframe tbody tr th {\n",
       "        vertical-align: top;\n",
       "    }\n",
       "\n",
       "    .dataframe thead th {\n",
       "        text-align: right;\n",
       "    }\n",
       "</style>\n",
       "<table border=\"1\" class=\"dataframe\">\n",
       "  <thead>\n",
       "    <tr style=\"text-align: right;\">\n",
       "      <th></th>\n",
       "      <th>user_query</th>\n",
       "      <th>response_latency_ms</th>\n",
       "      <th>sources</th>\n",
       "    </tr>\n",
       "  </thead>\n",
       "  <tbody>\n",
       "    <tr>\n",
       "      <th>3</th>\n",
       "      <td>Give me a complete summary of all key architec...</td>\n",
       "      <td>4850</td>\n",
       "      <td>[Archived Design Docs (PDFs), Engineering Wiki...</td>\n",
       "    </tr>\n",
       "    <tr>\n",
       "      <th>7</th>\n",
       "      <td>Summarize the key findings from the 2021 user ...</td>\n",
       "      <td>5100</td>\n",
       "      <td>[Archived Design Docs (PDFs), Archived Design ...</td>\n",
       "    </tr>\n",
       "    <tr>\n",
       "      <th>11</th>\n",
       "      <td>What are the performance benchmarks for the ne...</td>\n",
       "      <td>4150</td>\n",
       "      <td>[Archived Design Docs (PDFs), Confluence, Arch...</td>\n",
       "    </tr>\n",
       "    <tr>\n",
       "      <th>14</th>\n",
       "      <td>What is the company's policy on open source so...</td>\n",
       "      <td>3900</td>\n",
       "      <td>[Archived Design Docs (PDFs), Engineering Wiki...</td>\n",
       "    </tr>\n",
       "    <tr>\n",
       "      <th>18</th>\n",
       "      <td>What is the process for deprecating an API end...</td>\n",
       "      <td>3800</td>\n",
       "      <td>[Engineering Wiki, Archived Design Docs (PDFs)...</td>\n",
       "    </tr>\n",
       "    <tr>\n",
       "      <th>20</th>\n",
       "      <td>What version of Java is approved for new backe...</td>\n",
       "      <td>3650</td>\n",
       "      <td>[Engineering Wiki, Archived Design Docs (PDFs)...</td>\n",
       "    </tr>\n",
       "    <tr>\n",
       "      <th>23</th>\n",
       "      <td>What is the company's travel and expense polic...</td>\n",
       "      <td>4200</td>\n",
       "      <td>[Archived Design Docs (PDFs), Confluence, Arch...</td>\n",
       "    </tr>\n",
       "    <tr>\n",
       "      <th>28</th>\n",
       "      <td>What is the disaster recovery plan for the mai...</td>\n",
       "      <td>4500</td>\n",
       "      <td>[Archived Design Docs (PDFs), Engineering Wiki...</td>\n",
       "    </tr>\n",
       "    <tr>\n",
       "      <th>33</th>\n",
       "      <td>What is the company's stance on remote work?</td>\n",
       "      <td>4350</td>\n",
       "      <td>[Archived Design Docs (PDFs), Confluence, Engi...</td>\n",
       "    </tr>\n",
       "    <tr>\n",
       "      <th>36</th>\n",
       "      <td>What is the plan for migrating from Python 2 t...</td>\n",
       "      <td>4950</td>\n",
       "      <td>[Archived Design Docs (PDFs), Engineering Wiki...</td>\n",
       "    </tr>\n",
       "    <tr>\n",
       "      <th>41</th>\n",
       "      <td>What is our cloud provider's SLA for virtual m...</td>\n",
       "      <td>4700</td>\n",
       "      <td>[Archived Design Docs (PDFs), Engineering Wiki...</td>\n",
       "    </tr>\n",
       "    <tr>\n",
       "      <th>44</th>\n",
       "      <td>What is the company's social media policy?</td>\n",
       "      <td>4400</td>\n",
       "      <td>[Archived Design Docs (PDFs), Confluence, Engi...</td>\n",
       "    </tr>\n",
       "    <tr>\n",
       "      <th>48</th>\n",
       "      <td>What is the process for a cross-team code review?</td>\n",
       "      <td>3950</td>\n",
       "      <td>[Engineering Wiki, Archived Design Docs (PDFs)...</td>\n",
       "    </tr>\n",
       "    <tr>\n",
       "      <th>50</th>\n",
       "      <td>What is the company's policy on intellectual p...</td>\n",
       "      <td>4600</td>\n",
       "      <td>[Archived Design Docs (PDFs), Archived Design ...</td>\n",
       "    </tr>\n",
       "    <tr>\n",
       "      <th>54</th>\n",
       "      <td>What is the company's data retention policy?</td>\n",
       "      <td>5200</td>\n",
       "      <td>[Archived Design Docs (PDFs), Engineering Wiki...</td>\n",
       "    </tr>\n",
       "    <tr>\n",
       "      <th>58</th>\n",
       "      <td>How do I debug a memory leak in a Node.js serv...</td>\n",
       "      <td>4050</td>\n",
       "      <td>[Engineering Wiki, Engineering Wiki, Confluenc...</td>\n",
       "    </tr>\n",
       "    <tr>\n",
       "      <th>60</th>\n",
       "      <td>What is the company's official font?</td>\n",
       "      <td>3700</td>\n",
       "      <td>[Archived Design Docs (PDFs), Engineering Wiki...</td>\n",
       "    </tr>\n",
       "    <tr>\n",
       "      <th>63</th>\n",
       "      <td>What is the company's policy on parental leave?</td>\n",
       "      <td>3850</td>\n",
       "      <td>[Archived Design Docs (PDFs), Engineering Wiki...</td>\n",
       "    </tr>\n",
       "    <tr>\n",
       "      <th>66</th>\n",
       "      <td>What is the company's code of conduct?</td>\n",
       "      <td>4750</td>\n",
       "      <td>[Archived Design Docs (PDFs), Engineering Wiki...</td>\n",
       "    </tr>\n",
       "    <tr>\n",
       "      <th>68</th>\n",
       "      <td>What is the company's policy on using personal...</td>\n",
       "      <td>4900</td>\n",
       "      <td>[Archived Design Docs (PDFs), Engineering Wiki...</td>\n",
       "    </tr>\n",
       "    <tr>\n",
       "      <th>72</th>\n",
       "      <td>What is the company's policy on business gifts?</td>\n",
       "      <td>4100</td>\n",
       "      <td>[Archived Design Docs (PDFs), Confluence, Engi...</td>\n",
       "    </tr>\n",
       "    <tr>\n",
       "      <th>75</th>\n",
       "      <td>What is the company's policy on flexible worki...</td>\n",
       "      <td>3900</td>\n",
       "      <td>[Archived Design Docs (PDFs), Engineering Wiki...</td>\n",
       "    </tr>\n",
       "    <tr>\n",
       "      <th>78</th>\n",
       "      <td>What is the company's policy on employee educa...</td>\n",
       "      <td>4250</td>\n",
       "      <td>[Archived Design Docs (PDFs), Engineering Wiki...</td>\n",
       "    </tr>\n",
       "  </tbody>\n",
       "</table>\n",
       "</div>"
      ],
      "text/plain": [
       "                                           user_query  response_latency_ms  \\\n",
       "3   Give me a complete summary of all key architec...                 4850   \n",
       "7   Summarize the key findings from the 2021 user ...                 5100   \n",
       "11  What are the performance benchmarks for the ne...                 4150   \n",
       "14  What is the company's policy on open source so...                 3900   \n",
       "18  What is the process for deprecating an API end...                 3800   \n",
       "20  What version of Java is approved for new backe...                 3650   \n",
       "23  What is the company's travel and expense polic...                 4200   \n",
       "28  What is the disaster recovery plan for the mai...                 4500   \n",
       "33       What is the company's stance on remote work?                 4350   \n",
       "36  What is the plan for migrating from Python 2 t...                 4950   \n",
       "41  What is our cloud provider's SLA for virtual m...                 4700   \n",
       "44         What is the company's social media policy?                 4400   \n",
       "48  What is the process for a cross-team code review?                 3950   \n",
       "50  What is the company's policy on intellectual p...                 4600   \n",
       "54       What is the company's data retention policy?                 5200   \n",
       "58  How do I debug a memory leak in a Node.js serv...                 4050   \n",
       "60               What is the company's official font?                 3700   \n",
       "63    What is the company's policy on parental leave?                 3850   \n",
       "66             What is the company's code of conduct?                 4750   \n",
       "68  What is the company's policy on using personal...                 4900   \n",
       "72    What is the company's policy on business gifts?                 4100   \n",
       "75  What is the company's policy on flexible worki...                 3900   \n",
       "78  What is the company's policy on employee educa...                 4250   \n",
       "\n",
       "                                              sources  \n",
       "3   [Archived Design Docs (PDFs), Engineering Wiki...  \n",
       "7   [Archived Design Docs (PDFs), Archived Design ...  \n",
       "11  [Archived Design Docs (PDFs), Confluence, Arch...  \n",
       "14  [Archived Design Docs (PDFs), Engineering Wiki...  \n",
       "18  [Engineering Wiki, Archived Design Docs (PDFs)...  \n",
       "20  [Engineering Wiki, Archived Design Docs (PDFs)...  \n",
       "23  [Archived Design Docs (PDFs), Confluence, Arch...  \n",
       "28  [Archived Design Docs (PDFs), Engineering Wiki...  \n",
       "33  [Archived Design Docs (PDFs), Confluence, Engi...  \n",
       "36  [Archived Design Docs (PDFs), Engineering Wiki...  \n",
       "41  [Archived Design Docs (PDFs), Engineering Wiki...  \n",
       "44  [Archived Design Docs (PDFs), Confluence, Engi...  \n",
       "48  [Engineering Wiki, Archived Design Docs (PDFs)...  \n",
       "50  [Archived Design Docs (PDFs), Archived Design ...  \n",
       "54  [Archived Design Docs (PDFs), Engineering Wiki...  \n",
       "58  [Engineering Wiki, Engineering Wiki, Confluenc...  \n",
       "60  [Archived Design Docs (PDFs), Engineering Wiki...  \n",
       "63  [Archived Design Docs (PDFs), Engineering Wiki...  \n",
       "66  [Archived Design Docs (PDFs), Engineering Wiki...  \n",
       "68  [Archived Design Docs (PDFs), Engineering Wiki...  \n",
       "72  [Archived Design Docs (PDFs), Confluence, Engi...  \n",
       "75  [Archived Design Docs (PDFs), Engineering Wiki...  \n",
       "78  [Archived Design Docs (PDFs), Engineering Wiki...  "
      ]
     },
     "execution_count": 17,
     "metadata": {},
     "output_type": "execute_result"
    }
   ],
   "source": [
    "df_slow = df[df['response_latency_ms'] > 3500]\n",
    "df_slow[['user_query', 'response_latency_ms', 'sources']]"
   ]
  },
  {
   "cell_type": "markdown",
   "id": "1db7bc2b",
   "metadata": {},
   "source": [
    "Late responses mainly have PDf as the first source"
   ]
  }
 ],
 "metadata": {
  "kernelspec": {
   "display_name": "base",
   "language": "python",
   "name": "python3"
  },
  "language_info": {
   "codemirror_mode": {
    "name": "ipython",
    "version": 3
   },
   "file_extension": ".py",
   "mimetype": "text/x-python",
   "name": "python",
   "nbconvert_exporter": "python",
   "pygments_lexer": "ipython3",
   "version": "3.9.13"
  }
 },
 "nbformat": 4,
 "nbformat_minor": 5
}
